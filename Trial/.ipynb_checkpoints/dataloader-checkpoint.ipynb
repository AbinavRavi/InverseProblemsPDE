{
 "cells": [
  {
   "cell_type": "code",
   "execution_count": 1,
   "metadata": {},
   "outputs": [],
   "source": [
    "import numpy as np\n",
    "import csv\n",
    "import os\n",
    "import glob\n",
    "import torch\n",
    "from torch.utils.data import Dataset\n",
    "from torch.utils.data import random_split\n",
    "from torch.utils.data import DataLoader"
   ]
  },
  {
   "cell_type": "code",
   "execution_count": 19,
   "metadata": {},
   "outputs": [],
   "source": [
    "class Ipde(Dataset):\n",
    "    def __init__(self,path):\n",
    "        self.data = glob.glob(path+'/**/*.csv')\n",
    "        #print(len(self.data))\n",
    "        \n",
    "    def csvreader(self,filename):\n",
    "        data = pd.read_csv(filename,header=None)\n",
    "        return np.array(data)\n",
    "        \n",
    "    def __len__(self):\n",
    "        return len(self.data)\n",
    "    \n",
    "    def getParameters(self,path):\n",
    "        newPath=path.split('/')[:-1]\n",
    "        newPath='/'.join(newPath)\n",
    "        parameterfile = newPath+'_parameters.csv'\n",
    "        return parameterfile\n",
    "        \n",
    "    def __getitem__(self,index):\n",
    "        parameterfile = self.getParameters(self.data[index])\n",
    "        return self.csvreader(parameterfile),self.csvreader(self.data[index])\n",
    "    \n",
    "    \n"
   ]
  },
  {
   "cell_type": "code",
   "execution_count": 20,
   "metadata": {},
   "outputs": [],
   "source": [
    "x = Ipde('./data/train_data/')"
   ]
  },
  {
   "cell_type": "code",
   "execution_count": 28,
   "metadata": {},
   "outputs": [
    {
     "name": "stdout",
     "output_type": "stream",
     "text": [
      "[tensor([[[-0.2584],\n",
      "         [ 1.1081],\n",
      "         [ 0.7486],\n",
      "         [ 0.4829]]], dtype=torch.float64), tensor([[[-0.1900, -0.2128, -0.2332,  ..., -0.1909, -0.1924, -0.1942],\n",
      "         [-0.2047, -0.2200, -0.2346,  ..., -0.1933, -0.1958, -0.1985],\n",
      "         [-0.2188, -0.2287, -0.2384,  ..., -0.1955, -0.1991, -0.2029],\n",
      "         ...,\n",
      "         [ 0.0117,  0.0130,  0.0139,  ..., -0.1278, -0.1518, -0.1769],\n",
      "         [ 0.0083,  0.0103,  0.0117,  ..., -0.1456, -0.1699, -0.1948],\n",
      "         [ 0.0055,  0.0082,  0.0103,  ..., -0.1642, -0.1881, -0.2101]]],\n",
      "       dtype=torch.float64)]\n"
     ]
    }
   ],
   "source": [
    "data = DataLoader(x)\n",
    "data_iter = iter(data)\n",
    "dta = data_iter.next()\n",
    "print(dta)\n",
    "\n",
    "# len(data)\n"
   ]
  },
  {
   "cell_type": "code",
   "execution_count": null,
   "metadata": {},
   "outputs": [],
   "source": []
  }
 ],
 "metadata": {
  "kernelspec": {
   "display_name": "Python 3",
   "language": "python",
   "name": "python3"
  },
  "language_info": {
   "codemirror_mode": {
    "name": "ipython",
    "version": 3
   },
   "file_extension": ".py",
   "mimetype": "text/x-python",
   "name": "python",
   "nbconvert_exporter": "python",
   "pygments_lexer": "ipython3",
   "version": "3.6.8"
  }
 },
 "nbformat": 4,
 "nbformat_minor": 2
}
