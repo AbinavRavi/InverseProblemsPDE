{
 "cells": [
  {
   "cell_type": "code",
   "execution_count": 1,
   "metadata": {},
   "outputs": [],
   "source": [
    "import numpy as np\n",
    "import matplotlib.pyplot as plt\n",
    "import torch\n",
    "from torch import nn\n",
    "import torch.nn.functional as F\n",
    "from torch import optim\n",
    "from dataloader import *\n",
    "from functools import reduce\n",
    "from torch.autograd import Variable\n",
    "from tqdm import tqdm\n",
    "%matplotlib inline"
   ]
  },
  {
   "cell_type": "markdown",
   "metadata": {},
   "source": [
    "## Model "
   ]
  },
  {
   "cell_type": "code",
   "execution_count": 2,
   "metadata": {},
   "outputs": [],
   "source": [
    "class Model(nn.Module):\n",
    "    def __init__(self,num_layers):\n",
    "        super(Model,self).__init__()\n",
    "        self.model1 = nn.ModuleList([nn.Conv2d(1,1,3,padding=1,bias=False) for i in range(num_layers)])\n",
    "        self.model2 = nn.ModuleList([nn.Conv2d(1,1,3,padding=1,bias=False) for i in range(num_layers)])\n",
    "        self.model3 = nn.ModuleList([nn.Conv2d(1,1,3,padding=1,bias=False) for i in range(num_layers)])\n",
    "        self.model4 = nn.ModuleList([nn.Conv2d(1,1,3,padding=1,bias=False) for i in range(num_layers)])\n",
    "#         self.model = nn.Sequential(self.model1)\n",
    "    def forward(self,x):\n",
    "#         print(x)\n",
    "        x1 = reduce(lambda acc, el: el(acc), self.model1, x)\n",
    "        x2 = reduce(lambda acc, el: el(acc), self.model2, x)\n",
    "        x3 = reduce(lambda acc, el: el(acc), self.model3, x)\n",
    "        x4 = reduce(lambda acc, el: el(acc), self.model4, x)\n",
    "        \n",
    "        x = torch.cat((x1,x2,x3,x4),1)\n",
    "        return x"
   ]
  },
  {
   "cell_type": "markdown",
   "metadata": {},
   "source": [
    "### Dataloader used to get data"
   ]
  },
  {
   "cell_type": "code",
   "execution_count": 3,
   "metadata": {},
   "outputs": [],
   "source": [
    "num_workers = 1\n",
    "train_batch_size = 256\n",
    "val_batch_size = 1\n",
    "trainData = Ipde('./data/train_data/')\n",
    "valData = Ipde('./data/val_data/')\n",
    "# testData = Ipde('./data/test_data/')\n",
    "\n",
    "# delta X\n",
    "nx = 64.\n",
    "delx = 2.*3.14/nx\n",
    "delt = 0.1\n",
    "\n",
    "trainDataloader = DataLoader(trainData,num_workers=num_workers,batch_size=train_batch_size)\n",
    "valDataloader = DataLoader(valData,num_workers=num_workers,batch_size=val_batch_size)\n",
    "# testDataloader = DataLoader(testData,num_workers,batch_size)\n",
    "\n",
    "trainIter = iter(trainDataloader)\n",
    "train = trainIter.next()\n",
    "valIter = iter(valDataloader)\n",
    "val = valIter.next()"
   ]
  },
  {
   "cell_type": "code",
   "execution_count": 4,
   "metadata": {},
   "outputs": [
    {
     "data": {
      "text/plain": [
       "2001"
      ]
     },
     "execution_count": 4,
     "metadata": {},
     "output_type": "execute_result"
    }
   ],
   "source": [
    "int(os.path.split(os.path.split(trainData.data[0])[0])[1].zfill(3)+os.path.split(trainData.data[0])[1][:-4].zfill(3))"
   ]
  },
  {
   "cell_type": "code",
   "execution_count": 5,
   "metadata": {},
   "outputs": [
    {
     "data": {
      "text/plain": [
       "['file-1', 'file-2', 'file-9', 'file-10']"
      ]
     },
     "execution_count": 5,
     "metadata": {},
     "output_type": "execute_result"
    }
   ],
   "source": [
    "l = ['file-1', 'file-9', 'file-2', 'file-10']\n",
    "sorted( l, key=lambda a: int(a.split(\"-\")[1]) )"
   ]
  },
  {
   "cell_type": "code",
   "execution_count": 6,
   "metadata": {},
   "outputs": [],
   "source": [
    "def psi_input(u):\n",
    "    filter_1 = np.expand_dims(np.expand_dims(np.array([[0,0,0],[-0.5,0,0.5],[0,0,0]]),0),0)/delx\n",
    "    filter_2 = np.expand_dims(np.expand_dims(np.array([[0,-0.5,0],[0,0,0],[0,0.5,0]]),0),0)/delx\n",
    "    filter_3 = np.expand_dims(np.expand_dims(np.array([[0,0,0],[1.,-2.,1.],[0,0,0]]),0),0)/(delx**2)\n",
    "    filter_4 = np.expand_dims(np.expand_dims(np.array([[0,1.,0],[0,-2.,0],[0,1.,0]]),0),0)/(delx**2)\n",
    "    Filter_var = np.concatenate([filter_1,filter_2,filter_3,filter_4],axis=0)\n",
    "    if(torch.cuda.is_available()!=False):\n",
    "        Filter_var = Variable(torch.FloatTensor(Filter_var).cuda(), requires_grad=False)\n",
    "    else:\n",
    "        Filter_var = Variable(torch.FloatTensor(Filter_var), requires_grad=False)            \n",
    "    out = F.conv2d(u, Filter_var, stride=1, padding=(1, 1))\n",
    "    return out"
   ]
  },
  {
   "cell_type": "code",
   "execution_count": 7,
   "metadata": {},
   "outputs": [],
   "source": [
    "def parameter_mult(psi,parameters):\n",
    "#     print(psi.shape,parameters.shape)\n",
    "    out = torch.mul(psi,parameters.unsqueeze(-1).unsqueeze(-1))\n",
    "    output = out[:,0:1,:,:]+out[:,1:2,:,:]+out[:,2:3,:,:]+out[:,3:4,:,:]\n",
    "    return output"
   ]
  },
  {
   "cell_type": "code",
   "execution_count": 8,
   "metadata": {},
   "outputs": [],
   "source": [
    "model = Model(3)"
   ]
  },
  {
   "cell_type": "code",
   "execution_count": 9,
   "metadata": {},
   "outputs": [],
   "source": [
    "def phi_input(u, parameters, delta_t):\n",
    "    w = parameter_mult(psi_input(u), parameters)*delta_t\n",
    "    psi = w + u\n",
    "#     print(model(input_to_net).shape)\n",
    "    convmodel = torch.sum(parameter_mult(model(w), parameters)*0.5*delta_t, 1, keepdim=True)\n",
    "    return convmodel + psi"
   ]
  },
  {
   "cell_type": "code",
   "execution_count": 10,
   "metadata": {},
   "outputs": [],
   "source": [
    "# def valphi_input(u, parameters, delta_t):\n",
    "#     psi = parameter_mult(psi_input(u),parameters)\n",
    "#     psi = psi*delta_t\n",
    "#     input_to_net = psi - u\n",
    "# #     print(model(input_to_net).shape)\n",
    "#     convmodel = model.forward(input_to_net)*0.5*delta_t + psi\n",
    "#     convmodel = convmodel[:,0:1,:,:]+convmodel[:,1:2,:,:]+convmodel[:,2:3,:,:]+convmodel[:,3:4,:,:]\n",
    "#     return convmodel"
   ]
  },
  {
   "cell_type": "code",
   "execution_count": 11,
   "metadata": {},
   "outputs": [
    {
     "data": {
      "text/plain": [
       "108"
      ]
     },
     "execution_count": 11,
     "metadata": {},
     "output_type": "execute_result"
    }
   ],
   "source": [
    "# No of parameters in the network\n",
    "sum(p.numel() for p in model.parameters())"
   ]
  },
  {
   "cell_type": "markdown",
   "metadata": {},
   "source": [
    "### Loss Functions and optimization"
   ]
  },
  {
   "cell_type": "code",
   "execution_count": 15,
   "metadata": {},
   "outputs": [],
   "source": [
    "criterion = nn.MSELoss()\n",
    "optimizer = optim.Adam(model.parameters(), lr=0.01, betas=(0.9,0.99), weight_decay=1e-2)"
   ]
  },
  {
   "cell_type": "code",
   "execution_count": null,
   "metadata": {
    "scrolled": true
   },
   "outputs": [
    {
     "name": "stdout",
     "output_type": "stream",
     "text": [
      "CUDA Training\n",
      "Epoch: 1 \tTraining Loss: 2353.491182\n"
     ]
    }
   ],
   "source": [
    "num_epochs = 20\n",
    "if (torch.cuda.is_available()==1):\n",
    "    print('CUDA Training')\n",
    "    model.cuda()\n",
    "\n",
    "model.train()\n",
    "for epoch in range(1,num_epochs+1):\n",
    "    train_loss = 0.0\n",
    "    for parameter,data,target in trainDataloader:\n",
    "    \n",
    "        if(torch.cuda.is_available()):\n",
    "            data = data.type(torch.FloatTensor).cuda()\n",
    "            parameter = parameter.type(torch.FloatTensor).cuda()\n",
    "            target = target.type(torch.FloatTensor).cuda()\n",
    "        else:\n",
    "            data = data.type(torch.FloatTensor)\n",
    "            parameter = parameter.type(torch.FloatTensor)\n",
    "            target = target.type(torch.FloatTensor)\n",
    "        \n",
    "        optimizer.zero_grad()\n",
    "        output = phi_input(data, parameter, 0.1)\n",
    "        loss = criterion(output, target)\n",
    "        loss.backward()\n",
    "        optimizer.step()\n",
    "        train_loss += loss.item()\n",
    "        \n",
    "#         data = data.cpu().detach().numpy()\n",
    "#         target = target.cpu().detach().numpy()\n",
    "#         output = output.cpu().detach().numpy()\n",
    "#         output_image = output[0,:,:,:].squeeze(0)\n",
    "#         input_image = data[0,:,:,:].squeeze(0)\n",
    "#         target_image = target[0,:,:,:].squeeze(0)\n",
    "#         plt.subplot(1,3,1)\n",
    "#         plt.title('Input image')\n",
    "#         plt.axis('off')\n",
    "#         plt.imshow(input_image)\n",
    "#         plt.subplot(1,3,2)\n",
    "#         plt.title('Target image')\n",
    "#         plt.axis('off')\n",
    "#         plt.imshow(target_image)\n",
    "#         plt.subplot(1,3,3)\n",
    "#         plt.title('Output image')\n",
    "#         plt.axis('off')\n",
    "#         plt.imshow(output_image)\n",
    "#         plt.show()\n",
    "        \n",
    "    train_loss = train_loss/len(trainDataloader)\n",
    "    print('Epoch: {} \\tTraining Loss: {:.6f}'.format(epoch, train_loss))"
   ]
  },
  {
   "cell_type": "code",
   "execution_count": null,
   "metadata": {
    "scrolled": true
   },
   "outputs": [],
   "source": [
    "model.eval()\n",
    "for epoch in range(1,num_epochs+1):\n",
    "    val_loss = 0.0\n",
    "    for parameter,data,target in valDataloader:\n",
    "        if(torch.cuda.is_available()):\n",
    "            data = data.type(torch.FloatTensor).cuda()\n",
    "            parameter = parameter.type(torch.FloatTensor).cuda()\n",
    "            target = target.type(torch.FloatTensor).cuda()\n",
    "        else:\n",
    "            data = data.type(torch.FloatTensor)\n",
    "            parameter = parameter.type(torch.FloatTensor)\n",
    "            target = target.type(torch.FloatTensor)\n",
    "        \n",
    "        output = valphi_input(data,parameter,0.1)\n",
    "        loss = criterion(output,target)\n",
    "        val_loss += loss.item()\n",
    "#         val_loss.append(loss.data.cpu().numpy())\n",
    "    val_loss_epoch = val_loss/len(valDataloader)\n",
    "    print('Epoch: {} \\tValidation Loss: {:.6f}'.format(epoch, val_loss_epoch))"
   ]
  },
  {
   "cell_type": "markdown",
   "metadata": {},
   "source": [
    "## Plot the losses"
   ]
  },
  {
   "cell_type": "code",
   "execution_count": null,
   "metadata": {},
   "outputs": [],
   "source": [
    "x = np.array(train_loss)\n",
    "y = np.array(val_loss)"
   ]
  },
  {
   "cell_type": "code",
   "execution_count": null,
   "metadata": {},
   "outputs": [],
   "source": [
    "plt.figure()\n",
    "plt.plot(x)\n",
    "plt.plot(y)\n",
    "plt.show()"
   ]
  },
  {
   "cell_type": "code",
   "execution_count": null,
   "metadata": {},
   "outputs": [],
   "source": [
    "model.eval()\n",
    "tot_error = 0.0\n",
    "for parameter,data,target in valDataloader:\n",
    "    if(torch.cuda.is_available()):\n",
    "        data = data.type(torch.FloatTensor).cuda()\n",
    "        parameter = parameter.type(torch.FloatTensor).cuda()\n",
    "        target = target.type(torch.FloatTensor).cuda()\n",
    "    else:\n",
    "        data = data.type(torch.FloatTensor)\n",
    "        parameter = parameter.type(torch.FloatTensor)\n",
    "        target = target.type(torch.FloatTensor)\n",
    "        \n",
    "    output = phi_input(data,parameter,0.1)\n",
    "    data = data.cpu().detach().numpy()\n",
    "    output = output.cpu()\n",
    "    output = output.detach().numpy()\n",
    "    output = output.squeeze(0)\n",
    "    image = plt.imshow(output.squeeze(0))\n",
    "    input_image = plt.imshow(data.squeeze(0).squeeze(0))\n",
    "#     plt.subplot(i,2,1)\n",
    "#     plt.title('Input image')\n",
    "#     plt.axis('off')\n",
    "#     plt.imshow(input_image)\n",
    "#     plt.subplot(i,2,2)\n",
    "#     plt.title('Output image')\n",
    "#     plt.axis('off')\n",
    "#     plt.imshow(image)\n",
    "    \n",
    "    error = np.sqrt(np.mean((output - data)**2))\n",
    "#     print('root mean square error',error)\n",
    "    tot_error += error\n",
    "avg_error = tot_error/len(valDataloader)\n",
    "print(avg_error)"
   ]
  },
  {
   "cell_type": "markdown",
   "metadata": {},
   "source": [
    "## Save the model"
   ]
  },
  {
   "cell_type": "code",
   "execution_count": null,
   "metadata": {},
   "outputs": [],
   "source": [
    "torch.save(model,'./Model/model.pt')"
   ]
  },
  {
   "cell_type": "markdown",
   "metadata": {},
   "source": [
    "## Inference"
   ]
  },
  {
   "cell_type": "code",
   "execution_count": null,
   "metadata": {},
   "outputs": [],
   "source": [
    "#Load the testdata\n",
    "num_workers = 1\n",
    "batch_size = 1\n",
    "testData = Ipde('./data/test_data/')\n",
    "\n",
    "\n",
    "testDataloader = DataLoader(trainData,num_workers=num_workers,batch_size=batch_size)\n",
    "\n",
    "testIter = iter(testDataloader)\n",
    "test = testIter.next()"
   ]
  },
  {
   "cell_type": "code",
   "execution_count": null,
   "metadata": {},
   "outputs": [],
   "source": [
    "model.eval()\n",
    "tot_error = 0.0\n",
    "for parameter,data,target in testDataloader:\n",
    "    if(torch.cuda.is_available()):\n",
    "        data = data.type(torch.FloatTensor).cuda()\n",
    "        parameter = parameter.type(torch.FloatTensor).cuda()\n",
    "        target = target.type(torch.FloatTensor).cuda()\n",
    "    else:\n",
    "        data = data.type(torch.FloatTensor)\n",
    "        parameter = parameter.type(torch.FloatTensor)\n",
    "        target = target.type(torch.FloatTensor)\n",
    "        \n",
    "    output = phi_input(data,parameter,0.1)\n",
    "    data = data.cpu().detach().numpy()\n",
    "    output = output.cpu()\n",
    "    output = output.detach().numpy()\n",
    "    output = output.squeeze(0)\n",
    "    image = output.squeeze(0)\n",
    "    input_image = data.squeeze(0).squeeze(0) \n",
    "    error = np.sqrt(np.mean((output - data)**2))\n",
    "#     print('root mean square error',error)\n",
    "    tot_error += error\n",
    "avg_error = tot_error/len(testDataloader)\n",
    "print(avg_error)"
   ]
  },
  {
   "cell_type": "code",
   "execution_count": null,
   "metadata": {},
   "outputs": [],
   "source": [
    "#plot some images\n",
    "counter = 0\n",
    "for i,(parameter,data,target) in enumerate(testDataloader):\n",
    "    if(torch.cuda.is_available()):\n",
    "        data = data.type(torch.FloatTensor).cuda()\n",
    "        parameter = parameter.type(torch.FloatTensor).cuda()\n",
    "        target = target.type(torch.FloatTensor).cuda()\n",
    "    else:\n",
    "        data = data.type(torch.FloatTensor)\n",
    "        parameter = parameter.type(torch.FloatTensor)\n",
    "        target = target.type(torch.FloatTensor)\n",
    "        \n",
    "    output = phi_input(data,parameter,0.1)\n",
    "    data = data.cpu().detach().numpy()\n",
    "    target = target.cpu().detach().numpy()\n",
    "    output = output.cpu()\n",
    "    output = output.detach().numpy()\n",
    "    output = output.squeeze(0)\n",
    "    image = output.squeeze(0)\n",
    "    input_image = data.squeeze(0).squeeze(0)\n",
    "    target_image = target.squeeze(0).squeeze(0)\n",
    "    plt.figure(i)\n",
    "    plt.subplot(1,3,1)\n",
    "    plt.title('Input image')\n",
    "    plt.axis('off')\n",
    "    plt.imshow(input_image)\n",
    "    plt.subplot(1,3,2)\n",
    "    plt.title('Target image')\n",
    "    plt.axis('off')\n",
    "    plt.imshow(target_image)\n",
    "    plt.subplot(1,3,3)\n",
    "    plt.title('Output image')\n",
    "    plt.axis('off')\n",
    "    plt.imshow(image)\n",
    "    counter+=1\n",
    "    if(counter == 10):\n",
    "        break"
   ]
  },
  {
   "cell_type": "code",
   "execution_count": null,
   "metadata": {},
   "outputs": [],
   "source": []
  },
  {
   "cell_type": "code",
   "execution_count": null,
   "metadata": {},
   "outputs": [],
   "source": []
  }
 ],
 "metadata": {
  "kernelspec": {
   "display_name": "Python 3",
   "language": "python",
   "name": "python3"
  },
  "language_info": {
   "codemirror_mode": {
    "name": "ipython",
    "version": 3
   },
   "file_extension": ".py",
   "mimetype": "text/x-python",
   "name": "python",
   "nbconvert_exporter": "python",
   "pygments_lexer": "ipython3",
   "version": "3.6.8"
  }
 },
 "nbformat": 4,
 "nbformat_minor": 4
}
