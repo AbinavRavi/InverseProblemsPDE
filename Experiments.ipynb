{
 "cells": [
  {
   "cell_type": "code",
   "execution_count": 1,
   "metadata": {},
   "outputs": [],
   "source": [
    "import numpy as np\n",
    "import matplotlib.pyplot as plt\n",
    "import torch\n",
    "import torch.nn as nn\n",
    "from dataloader import *"
   ]
  },
  {
   "cell_type": "code",
   "execution_count": 2,
   "metadata": {},
   "outputs": [],
   "source": [
    "class Model(nn.Module):\n",
    "    def __init__(self,num_layers):\n",
    "        super(Model,self).__init__()\n",
    "        self.model1 = nn.ModuleList([nn.Conv2d(1,1,3,padding=1,bias=False) for i in range(num_layers)])\n",
    "        self.model2 = nn.ModuleList([nn.Conv2d(1,1,3,padding=1,bias=False) for i in range(num_layers)])\n",
    "        self.model3 = nn.ModuleList([nn.Conv2d(1,1,3,padding=1,bias=False) for i in range(num_layers)])\n",
    "        self.model4 = nn.ModuleList([nn.Conv2d(1,1,3,padding=1,bias=False) for i in range(num_layers)])\n",
    "#         self.model = nn.Sequential(self.model1)\n",
    "    def forward(self,x):\n",
    "#         print(x)\n",
    "        x1 = reduce(lambda acc, el: el(acc), self.model1, x)\n",
    "        x2 = reduce(lambda acc, el: el(acc), self.model2, x)\n",
    "        x3 = reduce(lambda acc, el: el(acc), self.model3, x)\n",
    "        x4 = reduce(lambda acc, el: el(acc), self.model4, x)\n",
    "        \n",
    "        x = torch.cat((x1,x2,x3,x4),1)\n",
    "        return x"
   ]
  },
  {
   "cell_type": "code",
   "execution_count": 3,
   "metadata": {
    "scrolled": true
   },
   "outputs": [
    {
     "data": {
      "text/plain": [
       "Model(\n",
       "  (model1): ModuleList(\n",
       "    (0): Conv2d(1, 1, kernel_size=(3, 3), stride=(1, 1), padding=(1, 1), bias=False)\n",
       "    (1): Conv2d(1, 1, kernel_size=(3, 3), stride=(1, 1), padding=(1, 1), bias=False)\n",
       "    (2): Conv2d(1, 1, kernel_size=(3, 3), stride=(1, 1), padding=(1, 1), bias=False)\n",
       "  )\n",
       "  (model2): ModuleList(\n",
       "    (0): Conv2d(1, 1, kernel_size=(3, 3), stride=(1, 1), padding=(1, 1), bias=False)\n",
       "    (1): Conv2d(1, 1, kernel_size=(3, 3), stride=(1, 1), padding=(1, 1), bias=False)\n",
       "    (2): Conv2d(1, 1, kernel_size=(3, 3), stride=(1, 1), padding=(1, 1), bias=False)\n",
       "  )\n",
       "  (model3): ModuleList(\n",
       "    (0): Conv2d(1, 1, kernel_size=(3, 3), stride=(1, 1), padding=(1, 1), bias=False)\n",
       "    (1): Conv2d(1, 1, kernel_size=(3, 3), stride=(1, 1), padding=(1, 1), bias=False)\n",
       "    (2): Conv2d(1, 1, kernel_size=(3, 3), stride=(1, 1), padding=(1, 1), bias=False)\n",
       "  )\n",
       "  (model4): ModuleList(\n",
       "    (0): Conv2d(1, 1, kernel_size=(3, 3), stride=(1, 1), padding=(1, 1), bias=False)\n",
       "    (1): Conv2d(1, 1, kernel_size=(3, 3), stride=(1, 1), padding=(1, 1), bias=False)\n",
       "    (2): Conv2d(1, 1, kernel_size=(3, 3), stride=(1, 1), padding=(1, 1), bias=False)\n",
       "  )\n",
       ")"
      ]
     },
     "execution_count": 3,
     "metadata": {},
     "output_type": "execute_result"
    }
   ],
   "source": [
    "torch.load('./Model/model.pt')"
   ]
  },
  {
   "cell_type": "code",
   "execution_count": 5,
   "metadata": {},
   "outputs": [],
   "source": [
    "num_workers = 1\n",
    "batch_size = 1\n",
    "testData = Ipde('./data/128/')\n",
    "\n",
    "\n",
    "testDataloader = DataLoader(testData,num_workers=num_workers,batch_size=batch_size)\n",
    "\n",
    "testIter = iter(testDataloader)\n",
    "test = testIter.next()"
   ]
  },
  {
   "cell_type": "code",
   "execution_count": 7,
   "metadata": {},
   "outputs": [],
   "source": [
    "model = Model(3)"
   ]
  },
  {
   "cell_type": "code",
   "execution_count": 8,
   "metadata": {},
   "outputs": [
    {
     "ename": "NameError",
     "evalue": "name 'phi_input' is not defined",
     "output_type": "error",
     "traceback": [
      "\u001b[0;31m---------------------------------------------------------------------------\u001b[0m",
      "\u001b[0;31mNameError\u001b[0m                                 Traceback (most recent call last)",
      "\u001b[0;32m<ipython-input-8-9243e9582c39>\u001b[0m in \u001b[0;36m<module>\u001b[0;34m\u001b[0m\n\u001b[1;32m     12\u001b[0m         \u001b[0mtarget\u001b[0m \u001b[0;34m=\u001b[0m \u001b[0mtarget\u001b[0m\u001b[0;34m.\u001b[0m\u001b[0mtype\u001b[0m\u001b[0;34m(\u001b[0m\u001b[0mtorch\u001b[0m\u001b[0;34m.\u001b[0m\u001b[0mFloatTensor\u001b[0m\u001b[0;34m)\u001b[0m\u001b[0;34m\u001b[0m\u001b[0;34m\u001b[0m\u001b[0m\n\u001b[1;32m     13\u001b[0m \u001b[0;34m\u001b[0m\u001b[0m\n\u001b[0;32m---> 14\u001b[0;31m     \u001b[0moutput\u001b[0m \u001b[0;34m=\u001b[0m \u001b[0mphi_input\u001b[0m\u001b[0;34m(\u001b[0m\u001b[0mdata\u001b[0m\u001b[0;34m,\u001b[0m\u001b[0mparameter\u001b[0m\u001b[0;34m,\u001b[0m\u001b[0;36m0.1\u001b[0m\u001b[0;34m)\u001b[0m\u001b[0;34m\u001b[0m\u001b[0;34m\u001b[0m\u001b[0m\n\u001b[0m\u001b[1;32m     15\u001b[0m     \u001b[0mdata\u001b[0m \u001b[0;34m=\u001b[0m \u001b[0mdata\u001b[0m\u001b[0;34m.\u001b[0m\u001b[0mcpu\u001b[0m\u001b[0;34m(\u001b[0m\u001b[0;34m)\u001b[0m\u001b[0;34m.\u001b[0m\u001b[0mdetach\u001b[0m\u001b[0;34m(\u001b[0m\u001b[0;34m)\u001b[0m\u001b[0;34m.\u001b[0m\u001b[0mnumpy\u001b[0m\u001b[0;34m(\u001b[0m\u001b[0;34m)\u001b[0m\u001b[0;34m\u001b[0m\u001b[0;34m\u001b[0m\u001b[0m\n\u001b[1;32m     16\u001b[0m     \u001b[0mtarget\u001b[0m \u001b[0;34m=\u001b[0m \u001b[0mtarget\u001b[0m\u001b[0;34m.\u001b[0m\u001b[0mcpu\u001b[0m\u001b[0;34m(\u001b[0m\u001b[0;34m)\u001b[0m\u001b[0;34m.\u001b[0m\u001b[0mdetach\u001b[0m\u001b[0;34m(\u001b[0m\u001b[0;34m)\u001b[0m\u001b[0;34m.\u001b[0m\u001b[0mnumpy\u001b[0m\u001b[0;34m(\u001b[0m\u001b[0;34m)\u001b[0m\u001b[0;34m\u001b[0m\u001b[0;34m\u001b[0m\u001b[0m\n",
      "\u001b[0;31mNameError\u001b[0m: name 'phi_input' is not defined"
     ]
    }
   ],
   "source": [
    "model.eval()\n",
    "counter = 0\n",
    "tot_error = 0.0\n",
    "for i,(parameter,data,target) in enumerate(testDataloader):\n",
    "    if(torch.cuda.is_available()):\n",
    "        data = data.type(torch.FloatTensor).cuda()\n",
    "        parameter = parameter.type(torch.FloatTensor).cuda()\n",
    "        target = target.type(torch.FloatTensor).cuda()\n",
    "    else:\n",
    "        data = data.type(torch.FloatTensor)\n",
    "        parameter = parameter.type(torch.FloatTensor)\n",
    "        target = target.type(torch.FloatTensor)\n",
    "        \n",
    "    output = phi_input(data,parameter,0.1)\n",
    "    data = data.cpu().detach().numpy()\n",
    "    target = target.cpu().detach().numpy()\n",
    "    output = output.cpu()\n",
    "    output = output.detach().numpy()\n",
    "    output = output.squeeze(0)\n",
    "    image = output.squeeze(0)\n",
    "    input_image = data.squeeze(0).squeeze(0)\n",
    "    target_image = target.squeeze(0).squeeze(0)\n",
    "    plt.figure(i)\n",
    "    plt.subplot(1,3,1)\n",
    "    plt.title('Input image')\n",
    "    plt.axis('off')\n",
    "    plt.imshow(input_image)\n",
    "    plt.subplot(1,3,2)\n",
    "    plt.title('Target image')\n",
    "    plt.axis('off')\n",
    "    plt.imshow(target_image)\n",
    "    plt.subplot(1,3,3)\n",
    "    plt.title('Output image')\n",
    "    plt.axis('off')\n",
    "    plt.imshow(image)\n",
    "    counter+=1\n",
    "    if(counter == 20):\n",
    "        break\n",
    "    error = np.sqrt(np.mean((output - data)**2))\n",
    "#     print('root mean square error',error)\n",
    "    tot_error += error\n",
    "avg_error = tot_error/len(testDataloader)\n",
    "print(avg_error)"
   ]
  },
  {
   "cell_type": "code",
   "execution_count": null,
   "metadata": {},
   "outputs": [],
   "source": []
  }
 ],
 "metadata": {
  "kernelspec": {
   "display_name": "Python 3",
   "language": "python",
   "name": "python3"
  },
  "language_info": {
   "codemirror_mode": {
    "name": "ipython",
    "version": 3
   },
   "file_extension": ".py",
   "mimetype": "text/x-python",
   "name": "python",
   "nbconvert_exporter": "python",
   "pygments_lexer": "ipython3",
   "version": "3.6.8"
  }
 },
 "nbformat": 4,
 "nbformat_minor": 2
}
