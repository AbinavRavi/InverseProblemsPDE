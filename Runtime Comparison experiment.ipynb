{
 "cells": [
  {
   "cell_type": "markdown",
   "metadata": {},
   "source": [
    "## Fenics program Runtime"
   ]
  },
  {
   "cell_type": "code",
   "execution_count": 1,
   "metadata": {},
   "outputs": [],
   "source": [
    "import numpy as np\n",
    "import os\n",
    "# os.environ[\"CUDA_VISIBLE_DEVICES\"] = '1'\n",
    "import matplotlib\n",
    "import matplotlib.pyplot as plt\n",
    "import torch\n",
    "from torch import nn\n",
    "import torch.nn.functional as F\n",
    "from torch import optim\n",
    "from dataloader import *\n",
    "from functools import reduce\n",
    "from torch.autograd import Variable\n",
    "from tqdm import tqdm\n",
    "%matplotlib inline"
   ]
  },
  {
   "cell_type": "code",
   "execution_count": 2,
   "metadata": {},
   "outputs": [],
   "source": [
    "class Model(nn.Module):\n",
    "    def __init__(self,num_layers):\n",
    "        super(Model,self).__init__()\n",
    "        self.model1 = nn.ModuleList([nn.Sequential(nn.ConstantPad2d(1,0), nn.Conv2d(1,1,3,bias=False)) for i in range(num_layers)])\n",
    "        self.model2 = nn.ModuleList([nn.Sequential(nn.ConstantPad2d(1,0), nn.Conv2d(1,1,3,bias=False)) for i in range(num_layers)])\n",
    "        self.model3 = nn.ModuleList([nn.Sequential(nn.ConstantPad2d(1,0), nn.Conv2d(1,1,3,bias=False)) for i in range(num_layers)])\n",
    "        self.model4 = nn.ModuleList([nn.Sequential(nn.ConstantPad2d(1,0), nn.Conv2d(1,1,3,bias=False)) for i in range(num_layers)])\n",
    "#         self.model = nn.Sequential(self.model1)\n",
    "    def forward(self,x):\n",
    "#         print(x)\n",
    "        x1 = reduce(lambda acc, el: el(acc), self.model1, x)\n",
    "        x2 = reduce(lambda acc, el: el(acc), self.model2, x)\n",
    "        x3 = reduce(lambda acc, el: el(acc), self.model3, x)\n",
    "        x4 = reduce(lambda acc, el: el(acc), self.model4, x)\n",
    "        \n",
    "        x = torch.cat((x1,x2,x3,x4),1)\n",
    "        return x"
   ]
  },
  {
   "cell_type": "code",
   "execution_count": 3,
   "metadata": {},
   "outputs": [],
   "source": [
    "model = Model(3)\n",
    "# delta X\n",
    "nx = 65.\n",
    "delx = 2.*3.14/nx\n",
    "delt = 0.2\n",
    "epsilon = 0.50\n",
    "d_ = torch.from_numpy(np.array([0.0/delx, 0.0/delx, -2./(delx**2), -2./(delx**2)])).type(torch.FloatTensor)\n",
    "dx = torch.from_numpy(np.array([1.0/delx, 1.0/delx, 1.0/(delx**2), 1.0/(delx**2)])).type(torch.FloatTensor)"
   ]
  },
  {
   "cell_type": "code",
   "execution_count": 4,
   "metadata": {},
   "outputs": [],
   "source": [
    "def psi_input(u1, u2, epsilon):\n",
    "    filter_1 = -np.expand_dims(np.expand_dims(np.array([[0, 0, 0],[-0.5, 0, 0.5], [0, 0, 0]]), 0), 0)\n",
    "    filter_2 = -np.expand_dims(np.expand_dims(np.array([[0, -0.5, 0],[0, 0, 0],[0, 0.5, 0]]), 0), 0) \n",
    "    filter_3 = np.expand_dims(np.expand_dims(np.array([[0, 0, 0],[1., 0, 1.],[0, 0, 0]]), 0), 0) #d_2 = -2.\n",
    "    filter_4 = np.expand_dims(np.expand_dims(np.array([[0, 1., 0],[0, 0, 0],[0, 1., 0]]), 0), 0) #d_2 = -2.\n",
    "    filter_5 = np.expand_dims(np.expand_dims(np.array([[0, 0, 0],[1., -2., 1.],[0, 0, 0]]), 0), 0) #d_2 = -2.\n",
    "    filter_6 = np.expand_dims(np.expand_dims(np.array([[0, 1., 0],[0, -2., 0],[0, 1., 0]]), 0), 0) #d_2 = -2.\n",
    "    Filter_var_d = np.concatenate([filter_1, filter_2, filter_3, filter_4],axis=0)\n",
    "    Filter_var = np.concatenate([filter_1, filter_2, filter_5, filter_6],axis=0)\n",
    "    if(torch.cuda.is_available()!=False):\n",
    "        Filter_var = Variable(torch.FloatTensor(Filter_var).cuda(), requires_grad=False)\n",
    "        Filter_var_d = Variable(torch.FloatTensor(Filter_var_d).cuda(), requires_grad=False)\n",
    "    else:\n",
    "        Filter_var = Variable(torch.FloatTensor(Filter_var), requires_grad=False)\n",
    "        Filter_var_d = Variable(torch.FloatTensor(Filter_var_d), requires_grad=False)\n",
    "    u1 = F.pad(u1, (1,1,1,1), mode='constant')\n",
    "    u2 = F.pad(u2, (1,1,1,1), mode='constant')\n",
    "    out1 = F.conv2d(u1, Filter_var_d, stride=1, padding=0)\n",
    "    out2 = F.conv2d(u2, Filter_var, stride=1, padding=0)\n",
    "    return out1*epsilon+(1-epsilon)*out2"
   ]
  },
  {
   "cell_type": "code",
   "execution_count": 5,
   "metadata": {},
   "outputs": [],
   "source": [
    "def getG(psi):\n",
    "    psi.data[:,:,0,:] = 1e-10\n",
    "    psi.data[:,:,:,0] = 1e-10\n",
    "    psi.data[:,:,-1,:] = 1e-10\n",
    "    psi.data[:,:,:,-1] = 1e-10\n",
    "    return psi"
   ]
  },
  {
   "cell_type": "code",
   "execution_count": 6,
   "metadata": {},
   "outputs": [],
   "source": [
    "def parameter_mult(psi, parameters):\n",
    "    out = torch.mul(psi, parameters.unsqueeze(-1).unsqueeze(-1))\n",
    "    output = torch.sum(out, 1, keepdim=True)\n",
    "    return output"
   ]
  },
  {
   "cell_type": "code",
   "execution_count": 7,
   "metadata": {},
   "outputs": [],
   "source": [
    "def phi_input(phi, u, parameter, delta_t, epsilon):\n",
    "    \n",
    "    div = 1.0/(1.0 - torch.sum(delt*epsilon*torch.mul(parameter, d_), 1)).unsqueeze(1)\n",
    "    parameter = torch.mul(parameter, dx)\n",
    "    lamda = torch.mul(parameter, div)\n",
    "\n",
    "    psi = phi\n",
    "\n",
    "    psi = parameter_mult(psi_input(psi, u, epsilon), lamda)*delta_t+parameter_mult(u, div)\n",
    "    psi = getG(psi)\n",
    "    w = psi - phi\n",
    "    # Boundary correction should be here on psi\n",
    "    #     print(model(input_to_net).shape)\n",
    "\n",
    "    w = getG(parameter_mult(model(w),  lamda*delta_t*epsilon))\n",
    "        \n",
    "    phi = w + psi\n",
    "#         psi = phi\n",
    "    return phi"
   ]
  },
  {
   "cell_type": "code",
   "execution_count": 20,
   "metadata": {},
   "outputs": [],
   "source": [
    "def neural_solver(u, parameter, delta_t, epsilon):\n",
    "    phi = u\n",
    "#     iter_ = np.random.randint(1, 20)\n",
    "    iter_= 15\n",
    "    for _ in range(iter_):\n",
    "        phi = phi_input(phi, u, parameter, delta_t, epsilon)\n",
    "    return phi"
   ]
  },
  {
   "cell_type": "code",
   "execution_count": 9,
   "metadata": {},
   "outputs": [],
   "source": [
    "def implicit_FDM(u, parameter, delta_t, epsilon):\n",
    "    div = 1.0/(1.0 - torch.sum(delt*epsilon*torch.mul(parameter, d_), 1)).unsqueeze(1)\n",
    "    parameter = torch.mul(parameter, dx)\n",
    "    lamda = torch.mul(parameter, div)\n",
    "    psi = u\n",
    "    for i in range(25):\n",
    "        psi = parameter_mult(psi_input(psi, u, epsilon), lamda)*delta_t+parameter_mult(u, div)\n",
    "        psi = getG(psi)\n",
    "        # Boundary correction should be here on psi\n",
    "    #     print(model(input_to_net).shape)\n",
    "\n",
    "    return psi"
   ]
  },
  {
   "cell_type": "code",
   "execution_count": 10,
   "metadata": {},
   "outputs": [
    {
     "data": {
      "text/plain": [
       "Model(\n",
       "  (model1): ModuleList(\n",
       "    (0): Sequential(\n",
       "      (0): ConstantPad2d(padding=(1, 1, 1, 1), value=0)\n",
       "      (1): Conv2d(1, 1, kernel_size=(3, 3), stride=(1, 1), bias=False)\n",
       "    )\n",
       "    (1): Sequential(\n",
       "      (0): ConstantPad2d(padding=(1, 1, 1, 1), value=0)\n",
       "      (1): Conv2d(1, 1, kernel_size=(3, 3), stride=(1, 1), bias=False)\n",
       "    )\n",
       "    (2): Sequential(\n",
       "      (0): ConstantPad2d(padding=(1, 1, 1, 1), value=0)\n",
       "      (1): Conv2d(1, 1, kernel_size=(3, 3), stride=(1, 1), bias=False)\n",
       "    )\n",
       "  )\n",
       "  (model2): ModuleList(\n",
       "    (0): Sequential(\n",
       "      (0): ConstantPad2d(padding=(1, 1, 1, 1), value=0)\n",
       "      (1): Conv2d(1, 1, kernel_size=(3, 3), stride=(1, 1), bias=False)\n",
       "    )\n",
       "    (1): Sequential(\n",
       "      (0): ConstantPad2d(padding=(1, 1, 1, 1), value=0)\n",
       "      (1): Conv2d(1, 1, kernel_size=(3, 3), stride=(1, 1), bias=False)\n",
       "    )\n",
       "    (2): Sequential(\n",
       "      (0): ConstantPad2d(padding=(1, 1, 1, 1), value=0)\n",
       "      (1): Conv2d(1, 1, kernel_size=(3, 3), stride=(1, 1), bias=False)\n",
       "    )\n",
       "  )\n",
       "  (model3): ModuleList(\n",
       "    (0): Sequential(\n",
       "      (0): ConstantPad2d(padding=(1, 1, 1, 1), value=0)\n",
       "      (1): Conv2d(1, 1, kernel_size=(3, 3), stride=(1, 1), bias=False)\n",
       "    )\n",
       "    (1): Sequential(\n",
       "      (0): ConstantPad2d(padding=(1, 1, 1, 1), value=0)\n",
       "      (1): Conv2d(1, 1, kernel_size=(3, 3), stride=(1, 1), bias=False)\n",
       "    )\n",
       "    (2): Sequential(\n",
       "      (0): ConstantPad2d(padding=(1, 1, 1, 1), value=0)\n",
       "      (1): Conv2d(1, 1, kernel_size=(3, 3), stride=(1, 1), bias=False)\n",
       "    )\n",
       "  )\n",
       "  (model4): ModuleList(\n",
       "    (0): Sequential(\n",
       "      (0): ConstantPad2d(padding=(1, 1, 1, 1), value=0)\n",
       "      (1): Conv2d(1, 1, kernel_size=(3, 3), stride=(1, 1), bias=False)\n",
       "    )\n",
       "    (1): Sequential(\n",
       "      (0): ConstantPad2d(padding=(1, 1, 1, 1), value=0)\n",
       "      (1): Conv2d(1, 1, kernel_size=(3, 3), stride=(1, 1), bias=False)\n",
       "    )\n",
       "    (2): Sequential(\n",
       "      (0): ConstantPad2d(padding=(1, 1, 1, 1), value=0)\n",
       "      (1): Conv2d(1, 1, kernel_size=(3, 3), stride=(1, 1), bias=False)\n",
       "    )\n",
       "  )\n",
       ")"
      ]
     },
     "execution_count": 10,
     "metadata": {},
     "output_type": "execute_result"
    }
   ],
   "source": [
    "model = torch.load('Model/model_0.5_final.pt',map_location='cpu')\n",
    "model"
   ]
  },
  {
   "cell_type": "code",
   "execution_count": 11,
   "metadata": {},
   "outputs": [],
   "source": [
    "import time"
   ]
  },
  {
   "cell_type": "code",
   "execution_count": 12,
   "metadata": {},
   "outputs": [],
   "source": [
    "list_of_parameters = glob.glob('./data/test_data/*.csv',recursive=True)"
   ]
  },
  {
   "cell_type": "code",
   "execution_count": 13,
   "metadata": {},
   "outputs": [],
   "source": [
    "test_data_ = []\n",
    "for i in list_of_parameters:\n",
    "    test_data_.append(os.path.split(i)[1][:-15])"
   ]
  },
  {
   "cell_type": "code",
   "execution_count": 14,
   "metadata": {},
   "outputs": [],
   "source": [
    "def parameter(filename):\n",
    "    data = pd.read_csv(filename,header=None)\n",
    "    output = np.array(data)\n",
    "    output = torch.tensor(output)\n",
    "    return output"
   ]
  },
  {
   "cell_type": "code",
   "execution_count": 15,
   "metadata": {},
   "outputs": [],
   "source": [
    "m = 1\n",
    "for number in test_data_[m:m+1]:\n",
    "    data_list = glob.glob('./data/test_data/'+number+'/*.csv')\n",
    "    data_list = sorted(data_list, key=lambda a: int(os.path.split(a)[1][:-4].zfill(3)))\n",
    "    parafile = './data/test_data/'+number+'_parameters.csv'"
   ]
  },
  {
   "cell_type": "code",
   "execution_count": 21,
   "metadata": {},
   "outputs": [],
   "source": [
    "file = open('time_neural15.txt','w+')"
   ]
  },
  {
   "cell_type": "code",
   "execution_count": 22,
   "metadata": {},
   "outputs": [
    {
     "name": "stdout",
     "output_type": "stream",
     "text": [
      "50\n",
      "0.10417604446411133\n"
     ]
    }
   ],
   "source": [
    "start = time.time()\n",
    "n = len(data_list)\n",
    "print(n)\n",
    "delt = 0.2\n",
    "epsilon = 0.5\n",
    "for idx in range(1):\n",
    "    param = parameter(parafile).type(torch.FloatTensor).squeeze().unsqueeze(0)\n",
    "    data = np.expand_dims(np.expand_dims(parameter(data_list[idx]),axis=0),axis=0)\n",
    "    data = torch.tensor(data)\n",
    "    data = data.type(torch.FloatTensor)\n",
    "    output2 = neural_solver(data, param, delt, epsilon)\n",
    "file.write(str(time.time() - start))\n",
    "print(time.time() - start)\n",
    "file.close()"
   ]
  },
  {
   "cell_type": "code",
   "execution_count": null,
   "metadata": {},
   "outputs": [],
   "source": [
    "fenics_time = pd.read_csv('time_fenics.txt')\n",
    "print(fenics_time)\n",
    "neural_time = pd.read_csv('time_neural.txt')\n",
    "print(neural_time)"
   ]
  },
  {
   "cell_type": "code",
   "execution_count": null,
   "metadata": {},
   "outputs": [],
   "source": [
    "ratio = int(98.79823708534241/2.5830504894)\n",
    "ratio"
   ]
  },
  {
   "cell_type": "code",
   "execution_count": 19,
   "metadata": {},
   "outputs": [
    {
     "name": "stdout",
     "output_type": "stream",
     "text": [
      "50\n",
      "0.19795775413513184\n"
     ]
    }
   ],
   "source": [
    "file = open('time_neural30.txt','w+')\n",
    "start = time.time()\n",
    "n = len(data_list)\n",
    "print(n)\n",
    "delt = 0.2\n",
    "epsilon = 0.5\n",
    "for idx in range(1):\n",
    "    param = parameter(parafile).type(torch.FloatTensor).squeeze().unsqueeze(0)\n",
    "    data = np.expand_dims(np.expand_dims(parameter(data_list[idx]),axis=0),axis=0)\n",
    "    data = torch.tensor(data)\n",
    "    data = data.type(torch.FloatTensor)\n",
    "    output2 = neural_solver(data, param, delt, epsilon)\n",
    "file.write(str(time.time() - start))\n",
    "print(time.time() - start)\n",
    "file.close()"
   ]
  },
  {
   "cell_type": "code",
   "execution_count": null,
   "metadata": {},
   "outputs": [],
   "source": []
  }
 ],
 "metadata": {
  "kernelspec": {
   "display_name": "Python 3",
   "language": "python",
   "name": "python3"
  },
  "language_info": {
   "codemirror_mode": {
    "name": "ipython",
    "version": 3
   },
   "file_extension": ".py",
   "mimetype": "text/x-python",
   "name": "python",
   "nbconvert_exporter": "python",
   "pygments_lexer": "ipython3",
   "version": "3.6.8"
  }
 },
 "nbformat": 4,
 "nbformat_minor": 2
}
